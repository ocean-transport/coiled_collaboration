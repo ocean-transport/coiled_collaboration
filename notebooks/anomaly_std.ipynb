{
 "cells": [
  {
   "cell_type": "markdown",
   "metadata": {},
   "source": [
    "# Xarray / Dask Climatology Benchmark\n",
    "\n",
    "Notebook designed to debug the issue described in <https://github.com/dask/distributed/issues/2602>\n",
    "\n",
    "This has been tested with Dask 2020.12.0 and Dask 2021.07.1."
   ]
  },
  {
   "cell_type": "code",
   "execution_count": null,
   "metadata": {},
   "outputs": [],
   "source": [
    "import dask\n",
    "dask.__version__"
   ]
  },
  {
   "cell_type": "markdown",
   "metadata": {},
   "source": [
    "## Dask Cluster Settings"
   ]
  },
  {
   "cell_type": "code",
   "execution_count": null,
   "metadata": {},
   "outputs": [],
   "source": [
    "nworkers = 30\n",
    "worker_memory = 8\n",
    "worker_cores = 1\n",
    "use_MALLOC_TRIM_THRESHOLD = True"
   ]
  },
  {
   "cell_type": "code",
   "execution_count": null,
   "metadata": {},
   "outputs": [],
   "source": [
    "from dask_gateway import Gateway\n",
    "g = Gateway()\n",
    "options = g.cluster_options()\n",
    "# set the options programatically, or through their HTML repr\n",
    "options.worker_memory = worker_memory\n",
    "options.worker_cores = worker_cores\n",
    "if use_MALLOC_TRIM_THRESHOLD:\n",
    "    options.environment = {\"MALLOC_TRIM_THRESHOLD_\": \"0\"}\n",
    "\n",
    "display(options)\n",
    "cluster = g.new_cluster(options)\n",
    "cluster"
   ]
  },
  {
   "cell_type": "code",
   "execution_count": null,
   "metadata": {},
   "outputs": [],
   "source": [
    "cluster.scale(nworkers)\n",
    "client = cluster.get_client()\n",
    "client.wait_for_workers(nworkers)\n",
    "client"
   ]
  },
  {
   "cell_type": "markdown",
   "metadata": {},
   "source": [
    "## Synthetic Data Example"
   ]
  },
  {
   "cell_type": "code",
   "execution_count": null,
   "metadata": {},
   "outputs": [],
   "source": [
    "import dask.array as dsa\n",
    "import numpy as np\n",
    "import xarray as xr\n",
    "\n",
    "data = dsa.random.random((10000, 1000000), chunks=(1, 1000000))\n",
    "da = xr.DataArray(data, dims=['time', 'x'],\n",
    "                  coords={'day': ('time', np.arange(10000) % 100)})\n",
    "clim = da.groupby('day').mean(dim='time')\n",
    "anom = da.groupby('day') - clim\n",
    "anom_mean = anom.mean(dim='time')"
   ]
  },
  {
   "cell_type": "code",
   "execution_count": null,
   "metadata": {},
   "outputs": [],
   "source": [
    "# without use_MALLOC_TRIM_THRESHOLD, workers die\n",
    "# with use_MALLOC_TRIM_THRESHOLD:\n",
    "#  Dask 2020.12.0: 1min 46s\n",
    "#  Dask 2021.07.1: 1min 41s\n",
    "\n",
    "%time anom_mean.load()"
   ]
  },
  {
   "cell_type": "markdown",
   "metadata": {},
   "source": [
    "## Real Data Example"
   ]
  },
  {
   "cell_type": "code",
   "execution_count": null,
   "metadata": {},
   "outputs": [],
   "source": [
    "from intake import open_catalog\n",
    "cat = open_catalog(\"https://raw.githubusercontent.com/pangeo-data/pangeo-datastore/master/intake-catalogs/ocean.yaml\")\n",
    "ds  = cat[\"sea_surface_height\"].to_dask()\n",
    "ds"
   ]
  },
  {
   "cell_type": "code",
   "execution_count": null,
   "metadata": {},
   "outputs": [],
   "source": [
    "sla = ds.sla\n",
    "sla_gb = sla.groupby('time.dayofyear')\n",
    "sla_clim = sla_gb.mean(dim='time')\n",
    "sla_anom = sla_gb - sla_clim\n",
    "sla_anom_std = sla_anom.std(dim='time')\n",
    "sla_anom_std"
   ]
  },
  {
   "cell_type": "code",
   "execution_count": null,
   "metadata": {},
   "outputs": [],
   "source": [
    "# With Dask 2020.12.0: 2min 58s\n",
    "# With Dask 2021:07.1: 2min 6s\n",
    "\n",
    "%time sla_anom_std.load()"
   ]
  },
  {
   "cell_type": "code",
   "execution_count": null,
   "metadata": {},
   "outputs": [],
   "source": [
    "sla_anom_std.plot(figsize=(20, 12))"
   ]
  },
  {
   "cell_type": "code",
   "execution_count": null,
   "metadata": {},
   "outputs": [],
   "source": [
    "client.close()\n",
    "cluster.scale(0)\n",
    "cluster.close()"
   ]
  },
  {
   "cell_type": "code",
   "execution_count": null,
   "metadata": {},
   "outputs": [],
   "source": []
  }
 ],
 "metadata": {
  "kernelspec": {
   "display_name": "Python 3",
   "language": "python",
   "name": "python3"
  },
  "language_info": {
   "codemirror_mode": {
    "name": "ipython",
    "version": 3
   },
   "file_extension": ".py",
   "mimetype": "text/x-python",
   "name": "python",
   "nbconvert_exporter": "python",
   "pygments_lexer": "ipython3",
   "version": "3.8.6"
  }
 },
 "nbformat": 4,
 "nbformat_minor": 4
}
